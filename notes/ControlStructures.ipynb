{
 "cells": [
  {
   "cell_type": "code",
   "execution_count": 2,
   "metadata": {},
   "outputs": [],
   "source": [
    "import sys\n",
    "\n",
    "\n",
    "def convertGrade(grade):\n",
    "    if (grade >= 9.1):\n",
    "        return 'A'\n",
    "    elif (grade >= 8.1):\n",
    "        return 'A-'\n",
    "    elif (grade >= 7.1):\n",
    "        return 'B'\n",
    "    elif (grade >= 6.1):\n",
    "        return 'B-'\n",
    "    elif (grade >= 5.1):\n",
    "        return 'C'\n",
    "    elif (grade >= 4.1):\n",
    "        return 'C-'\n",
    "    elif (grade >= 3.1):\n",
    "        return 'D'\n",
    "    elif (grade >= 2.1):\n",
    "        return 'D-'\n",
    "    elif (grade >= 1.1):\n",
    "        return 'E' \n",
    "    elif (grade >= 0.0):\n",
    "        return 'E-'\n",
    "    else:\n",
    "        return 'Invalid Number!'\n",
    "\n",
    "if (sys.__name__ == '__main__'):\n",
    "    grade = float(sys.argv[1])\n",
    "    print(convertGrade(grade))\n",
    "\n",
    "\n"
   ]
  }
 ],
 "metadata": {
  "kernelspec": {
   "display_name": "Python 3",
   "language": "python",
   "name": "python3"
  },
  "language_info": {
   "codemirror_mode": {
    "name": "ipython",
    "version": 3
   },
   "file_extension": ".py",
   "mimetype": "text/x-python",
   "name": "python",
   "nbconvert_exporter": "python",
   "pygments_lexer": "ipython3",
   "version": "3.11.4"
  }
 },
 "nbformat": 4,
 "nbformat_minor": 2
}
