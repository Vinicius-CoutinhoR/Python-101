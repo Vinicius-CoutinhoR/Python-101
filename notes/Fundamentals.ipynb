{
 "cells": [
  {
   "cell_type": "code",
   "execution_count": null,
   "metadata": {},
   "outputs": [],
   "source": [
    "print('Jupiter Test!')"
   ]
  },
  {
   "cell_type": "code",
   "execution_count": null,
   "metadata": {},
   "outputs": [],
   "source": [
    "print('Hello, World!')"
   ]
  },
  {
   "cell_type": "markdown",
   "metadata": {},
   "source": [
    "# Basic Types"
   ]
  },
  {
   "cell_type": "code",
   "execution_count": null,
   "metadata": {},
   "outputs": [],
   "source": [
    "print(True)\n",
    "print(False)\n",
    "print(1 + 2)\n",
    "print(1.2 + 2)\n",
    "print('You can create text using single quotes!')\n",
    "print(\"And also in double quotes!\")\n",
    "print('You can also' + \" concat text\",\"1\" + ' you can also multiply concats', 3 * \"3\" )\n",
    "#print('You cannot concat numbers', 1 + \"1\")\n",
    "print([1,2,3])\n",
    "print({'name': 'Matt', 'age': 32})\n",
    "print(None)\n",
    "\n"
   ]
  },
  {
   "cell_type": "markdown",
   "metadata": {},
   "source": [
    "# Variables"
   ]
  },
  {
   "cell_type": "code",
   "execution_count": null,
   "metadata": {},
   "outputs": [],
   "source": [
    "a = 10\n",
    "b = 5.2\n",
    "\n",
    "print(a + b)\n",
    "\n",
    "a = 'String'\n",
    "print(a)\n",
    "a\n",
    "b\n",
    "\n"
   ]
  },
  {
   "cell_type": "markdown",
   "metadata": {},
   "source": [
    "# Comments"
   ]
  },
  {
   "cell_type": "code",
   "execution_count": null,
   "metadata": {},
   "outputs": [],
   "source": [
    "# This is a commentary\n",
    "# The compiler will ignore this\n",
    "\n",
    "\"\"\"\n",
    "Comment block\n",
    "\"\"\"\n",
    "\n",
    "'''\n",
    "Comment block\n",
    "'''\n",
    "    "
   ]
  },
  {
   "cell_type": "markdown",
   "metadata": {},
   "source": [
    "# Arithmetic Operators"
   ]
  },
  {
   "cell_type": "code",
   "execution_count": null,
   "metadata": {},
   "outputs": [],
   "source": [
    "print(2 + 3)\n",
    "print(2 - 3)\n",
    "print(2 * 3)\n",
    "print(2 ** 3)\n",
    "print(4 ** (1/2))\n",
    "print(2 / 3)\n",
    "print(2 // 3)\n",
    "\n",
    "a = 12\n",
    "b = a\n",
    "print(a + b)\n"
   ]
  },
  {
   "cell_type": "markdown",
   "metadata": {},
   "source": [
    "# First Challenge"
   ]
  },
  {
   "cell_type": "code",
   "execution_count": null,
   "metadata": {},
   "outputs": [],
   "source": [
    "# what is the percentage of expenditure in relation to income?\n",
    "wage = 3450.45\n",
    "expenses = 2456.2\n",
    "\n",
    "expenditure = expenses/wage;\n",
    "\n",
    "print('The total expenses in relation to the income is:', round(expenditure * 100, 2), \"%\")"
   ]
  },
  {
   "cell_type": "markdown",
   "metadata": {},
   "source": [
    "# Relational Operators"
   ]
  },
  {
   "cell_type": "code",
   "execution_count": null,
   "metadata": {},
   "outputs": [],
   "source": [
    "print(2 > 3)\n",
    "print(2 < 3)\n",
    "print(2 >= 2)\n",
    "print(2 <= 2)\n",
    "print(2 != 3)\n",
    "print(3 != 3)\n",
    "print(2 == 2)\n",
    "print(2 == 3)"
   ]
  },
  {
   "cell_type": "markdown",
   "metadata": {},
   "source": [
    "# Assignment Operators"
   ]
  },
  {
   "cell_type": "code",
   "execution_count": null,
   "metadata": {},
   "outputs": [],
   "source": [
    "a = 3\n",
    "print(a)\n",
    "\n",
    "a = a + 7\n",
    "print(a)\n",
    "\n",
    "a += 5 # a = a + 5\n",
    "print(a)\n",
    "\n",
    "a -= 3 # a = a - 3\n",
    "print(a)\n",
    "\n",
    "a *= 2 # a = a * 2\n",
    "print(a)\n",
    "\n",
    "a /= 4 # a = a / 4\n",
    "print(a)\n",
    "\n",
    "a %= 4 # a = a % 4\n",
    "print(a)\n",
    "\n",
    "a **= 2 # a = a ** 2\n",
    "print(a)\n",
    "\n",
    "a //= 2 # a = a // 2\n",
    "print(a)\n",
    "\n"
   ]
  },
  {
   "cell_type": "markdown",
   "metadata": {},
   "source": [
    "# Ternary Operators"
   ]
  },
  {
   "cell_type": "code",
   "execution_count": null,
   "metadata": {},
   "outputs": [],
   "source": [
    "isRaining = True\n",
    "print(\"Today i am \" + ('soaked.' if isRaining else 'dry.'))"
   ]
  },
  {
   "cell_type": "markdown",
   "metadata": {},
   "source": [
    "# More Operators"
   ]
  },
  {
   "cell_type": "code",
   "execution_count": null,
   "metadata": {},
   "outputs": [],
   "source": [
    "list = [1,2,3,'Bob','Jeff']\n",
    "print(2 in list)\n",
    "print('Bob' not in list)\n",
    "\n",
    "# Identity Operators\n",
    "x = 3\n",
    "y = x\n",
    "z = 3\n",
    "\n",
    "print(x is y)\n",
    "print(y is z)\n",
    "print(x is not z)\n",
    "\n",
    "list1 = [1,2,3]\n",
    "list2 = list1\n",
    "list3 =[1,2,3]\n",
    "\n",
    "print(list1 is list2)\n",
    "print(list2 is list3)\n",
    "print(list1 is not list3)\n"
   ]
  },
  {
   "cell_type": "markdown",
   "metadata": {},
   "source": [
    "# Automatic Conversion"
   ]
  },
  {
   "cell_type": "code",
   "execution_count": null,
   "metadata": {},
   "outputs": [],
   "source": [
    "10 / 2\n",
    "type(10 /2)\n",
    "10 / 3\n",
    "10 // 3\n",
    "type(10 // 3)\n",
    "10 // 3.3\n",
    "type(10 // 3.3)\n",
    "10 / 2.5"
   ]
  },
  {
   "cell_type": "markdown",
   "metadata": {},
   "source": [
    "# Numbers 01"
   ]
  },
  {
   "cell_type": "code",
   "execution_count": null,
   "metadata": {},
   "outputs": [],
   "source": [
    "dir(int)\n",
    "dir(float)\n",
    "\n",
    "a = 5\n",
    "b = 2.5\n",
    "a / b\n",
    "a + b\n",
    "a * b\n",
    "\n",
    "type(a)\n",
    "type(b)\n",
    "type(a - b)\n",
    "\n",
    "b.is_integer()\n",
    "5.0.is_integer()\n",
    "\n",
    "dir(int)\n",
    "int.__add__(2, 3)\n",
    "2 + 5\n",
    "\n",
    "(-2).__abs__()\n",
    "abs(-2)\n"
   ]
  },
  {
   "cell_type": "code",
   "execution_count": 1,
   "metadata": {},
   "outputs": [
    {
     "name": "stdout",
     "output_type": "stream",
     "text": [
      "3.3000000000000003\n"
     ]
    },
    {
     "data": {
      "text/plain": [
       "Decimal('3.300000000')"
      ]
     },
     "execution_count": 1,
     "metadata": {},
     "output_type": "execute_result"
    }
   ],
   "source": [
    "print(1.1 + 2.2)\n",
    "\n",
    "from decimal import Decimal, getcontext\n",
    "\n",
    "Decimal(1) / Decimal(7)\n",
    "\n",
    "getcontext().prec = 4\n",
    "Decimal(1) / Decimal(7)\n",
    "Decimal.max(Decimal(1), Decimal(7))\n",
    "dir(Decimal)\n",
    "\n",
    "1.1 + 2.2\n",
    "getcontext().prec = 10\n",
    "Decimal(1.1) + Decimal(2.2)\n"
   ]
  },
  {
   "cell_type": "markdown",
   "metadata": {},
   "source": [
    "# Strings\n"
   ]
  },
  {
   "cell_type": "code",
   "execution_count": 3,
   "metadata": {},
   "outputs": [
    {
     "data": {
      "text/plain": [
       "'J'"
      ]
     },
     "execution_count": 3,
     "metadata": {},
     "output_type": "execute_result"
    }
   ],
   "source": [
    "dir(str)\n",
    "name = 'Jeff Bezos'\n",
    "name\n",
    "name[0]\n",
    "\n",
    "'quote on \\'quote \\n breaks the line'\n"
   ]
  },
  {
   "cell_type": "code",
   "execution_count": 7,
   "metadata": {},
   "outputs": [
    {
     "data": {
      "text/plain": [
       "'suluaP boB'"
      ]
     },
     "execution_count": 7,
     "metadata": {},
     "output_type": "execute_result"
    }
   ],
   "source": [
    "name = 'Bob Paulus'\n",
    "name[0]\n",
    "name[6]\n",
    "name[4:]\n",
    "name[:3]\n",
    "\n",
    "name[2:5]\n",
    "numbers = '1234567890'\n",
    "numbers\n",
    "numbers[::]\n",
    "numbers[::2]\n",
    "numbers[1::2]\n",
    "numbers[::-1]\n",
    "\n",
    "name[::-1]\n"
   ]
  },
  {
   "cell_type": "code",
   "execution_count": null,
   "metadata": {},
   "outputs": [],
   "source": [
    "text = 'Python is a beautiful language'\n",
    "'py' in text\n",
    "'age' in text\n",
    "len(text)\n",
    "text.lower\n",
    "text\n",
    "text = text.upper()\n",
    "text\n",
    "\n",
    "text.split()\n",
    "text.split('E')\n"
   ]
  },
  {
   "cell_type": "code",
   "execution_count": null,
   "metadata": {},
   "outputs": [],
   "source": [
    "a = '123'\n",
    "b = ' street 4'\n",
    "a + b\n",
    "a.__add__(b)\n",
    "str.__add__(a,b)\n",
    "\n",
    "dir(str)\n",
    "len(a)\n",
    "a.__len__()\n",
    "'1' in a\n",
    "a.__contains__('1')\n"
   ]
  },
  {
   "cell_type": "markdown",
   "metadata": {},
   "source": [
    "# Lists"
   ]
  },
  {
   "cell_type": "code",
   "execution_count": null,
   "metadata": {},
   "outputs": [],
   "source": [
    "list = []\n",
    "type(list)\n",
    "dir(list)\n",
    "\n",
    "help(list)\n",
    "\n",
    "len(list)\n",
    "list.append(1)\n",
    "list.append(5)\n",
    "list\n",
    "len(list)\n",
    "newList = [1,5,'Bob','Jeff']\n",
    "newList\n",
    "newList.remove(5)\n",
    "newList.reverse()\n"
   ]
  },
  {
   "cell_type": "code",
   "execution_count": null,
   "metadata": {},
   "outputs": [],
   "source": [
    "list = [1, 5, 'Rachel', 'Matt', 3.1415]\n",
    "list.index['Matt']\n",
    "list[2]\n",
    "1 in list\n",
    "'Rachel' in list\n",
    "'Peter' not in list\n",
    "list[0]\n",
    "list[4]\n",
    "list[-1] # last element of the list\n",
    "list[-5]\n",
    "del list[1:]\n"
   ]
  },
  {
   "cell_type": "markdown",
   "metadata": {},
   "source": [
    "# Tuple"
   ]
  },
  {
   "cell_type": "code",
   "execution_count": null,
   "metadata": {},
   "outputs": [],
   "source": [
    "tuple_ = tuple()\n",
    "type(tuple_)\n",
    "dir(tuple_)\n",
    "dir(tuple_)\n",
    "help(tuple_)\n",
    "\n",
    "tuple_ = ('one',)\n",
    "type(tuple_)\n",
    "\n",
    "tuple[0]\n",
    "\n",
    "colors = ('green', 'yellow', 'blue', 'white')\n",
    "colors[0]\n",
    "colors[-1]\n",
    "colors[1:]\n",
    "\n",
    "colors.index('yellow')\n",
    "colors.count('blue')\n",
    "len(colors)"
   ]
  },
  {
   "cell_type": "markdown",
   "metadata": {},
   "source": [
    "# Dictionary"
   ]
  },
  {
   "cell_type": "code",
   "execution_count": 14,
   "metadata": {},
   "outputs": [
    {
     "name": "stdout",
     "output_type": "stream",
     "text": [
      "dict_keys(['name', 'age', 'courses'])\n",
      "dict_items([('name', 'Professor. Michael'), ('age', 38), ('courses', ['Japanese', 'English'])])\n",
      "dict_values(['Professor. Michael', 38, ['Japanese', 'English']])\n"
     ]
    },
    {
     "data": {
      "text/plain": [
       "[]"
      ]
     },
     "execution_count": 14,
     "metadata": {},
     "output_type": "execute_result"
    }
   ],
   "source": [
    "person = {\n",
    "    'name': 'Professor. Michael', \n",
    "    'age':38, \n",
    "    'courses': [\n",
    "        'Japanese',\n",
    "        'English'\n",
    "        ]\n",
    "    }\n",
    "\n",
    "type(person)\n",
    "len(person)\n",
    "\n",
    "person['name']\n",
    "person['age']\n",
    "person['courses'][0]\n",
    "print(person.keys())\n",
    "print(person.items())\n",
    "print(person.values())\n",
    "person.get('age')\n",
    "person.get('tags', [])\n",
    "\n"
   ]
  },
  {
   "cell_type": "code",
   "execution_count": 22,
   "metadata": {},
   "outputs": [
    {
     "name": "stdout",
     "output_type": "stream",
     "text": [
      "{'name': 'Professor. James', 'courses': ['Ruby', 'React', 'Python', 'Angular']}\n",
      "{'name': 'Professor. James', 'courses': ['Ruby', 'React', 'Python', 'Angular'], 'age': 29, 'gender': 'M'}\n",
      "{'name': 'Professor. James', 'age': 29, 'gender': 'M'}\n",
      "{}\n"
     ]
    }
   ],
   "source": [
    "person = {\n",
    "    'name': 'Professor. James', \n",
    "    'age':28, \n",
    "    'courses': [\n",
    "        'Ruby',\n",
    "        'React',\n",
    "        'Python'\n",
    "        ]\n",
    "    }\n",
    "    \n",
    "person['age'] = 44\n",
    "person['courses'].append('Angular')\n",
    "person.pop('age')\n",
    "print(person)\n",
    "\n",
    "person.update({'age': 29, 'gender': 'M'})\n",
    "print(person)\n",
    "\n",
    "del person['courses']\n",
    "print(person)\n",
    "person.clear()\n",
    "print(person)"
   ]
  },
  {
   "cell_type": "markdown",
   "metadata": {},
   "source": [
    "# Set"
   ]
  },
  {
   "cell_type": "code",
   "execution_count": 25,
   "metadata": {},
   "outputs": [
    {
     "name": "stdout",
     "output_type": "stream",
     "text": [
      "<class 'set'>\n",
      "{'o', '3', 'r', 'c', 'd'}\n",
      "True True\n",
      "{1, 2, 3}\n"
     ]
    },
    {
     "data": {
      "text/plain": [
       "{1, 3}"
      ]
     },
     "execution_count": 25,
     "metadata": {},
     "output_type": "execute_result"
    }
   ],
   "source": [
    "a = {1,2,3}\n",
    "print(type(a))\n",
    "a = set('coddddd3r')\n",
    "print(a)\n",
    "print('3' in a, 4 not in a)\n",
    "{1,2,3} == {3,2,1,3}\n",
    "\n",
    "# Set operations\n",
    "c1 = {1,2}\n",
    "c2 = {2,3}\n",
    "c1.union(c2)\n",
    "c1.intersection(c2)\n",
    "c1.update(c2)\n",
    "print(c1)\n",
    "c2 <= c1\n",
    "c1 >= c2\n",
    "\n",
    "{1,2,3} - {2}\n",
    "c1 - c2\n",
    "c1 -= {2}\n",
    "c1\n"
   ]
  },
  {
   "cell_type": "markdown",
   "metadata": {},
   "source": [
    "# Interpolation"
   ]
  },
  {
   "cell_type": "code",
   "execution_count": 3,
   "metadata": {},
   "outputs": [
    {
     "name": "stdout",
     "output_type": "stream",
     "text": [
      "Name: Anna Age: 30 True False 1\n",
      "Name: Anna Age 30\n",
      "Name: Anna Age: 30 255\n",
      "Name: Anna Age: 30\n"
     ]
    }
   ],
   "source": [
    "from string import Template\n",
    "name, age = 'Anna', 30\n",
    "\n",
    "print('Name: %s Age: %d %r %s %d' % (name, age, True, False, True))\n",
    "print('Name: {0} Age {1}'.format(name, age))\n",
    "print(f'Name: {name} Age: {age} { (2 ** 8) - 1}')\n",
    "\n",
    "s = Template('Name: $name Age: $age')\n",
    "print(s.substitute(name=name, age=age))\n",
    "\n",
    "\n"
   ]
  }
 ],
 "metadata": {
  "kernelspec": {
   "display_name": "Python 3",
   "language": "python",
   "name": "python3"
  },
  "language_info": {
   "codemirror_mode": {
    "name": "ipython",
    "version": 3
   },
   "file_extension": ".py",
   "mimetype": "text/x-python",
   "name": "python",
   "nbconvert_exporter": "python",
   "pygments_lexer": "ipython3",
   "version": "3.11.4"
  }
 },
 "nbformat": 4,
 "nbformat_minor": 2
}
